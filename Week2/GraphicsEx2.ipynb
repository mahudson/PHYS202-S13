{
 "metadata": {
  "name": "GraphicsEx2"
 },
 "nbformat": 3,
 "nbformat_minor": 0,
 "worksheets": [
  {
   "cells": [
    {
     "cell_type": "markdown",
     "metadata": {},
     "source": [
      "$ y=mx+b$"
     ]
    },
    {
     "cell_type": "markdown",
     "metadata": {},
     "source": [
      "\\begin{equation*} y=mx+b \\end{equation*}"
     ]
    },
    {
     "cell_type": "markdown",
     "metadata": {},
     "source": [
      "$ \\psi_k(x) = A \\biggl( \\cfrac{ik - a\\tanh(ax)}{ik + a} \\biggr)e^{+ikx} $\n",
      "\n"
     ]
    },
    {
     "cell_type": "markdown",
     "metadata": {},
     "source": [
      "$ \\upsilon_1 = m_2\\sqrt{\\cfrac{2G}{M}\\biggl(\\cfrac{1}{r}-\\cfrac{1}{r_0}    \\biggr)}  $"
     ]
    },
    {
     "cell_type": "markdown",
     "metadata": {},
     "source": [
      "$ f (\\theta)=\\cfrac{\\hbar}{p}\\displaystyle\\sum\\limits_{\\ell=0} ^{\\infty}(2\\ell+1)e^{i\\delta_\\ell} \\sin\\delta_\\ell P_\\ell (\\cos\\theta)$"
     ]
    },
    {
     "cell_type": "markdown",
     "metadata": {},
     "source": [
      "$ \\cfrac {d\\sigma}{d\\Omega} = \\cfrac{k\\pi^2(\\pi-\\theta)}{mu_0^2\\theta^2(2\\pi-\\theta)^2\\sin\\theta}$\n"
     ]
    },
    {
     "cell_type": "markdown",
     "metadata": {},
     "source": [
      "$ \\langle f \\rangle = \\cfrac{1}{\\tau} \\displaystyle\\int_0^1f(t)dt$"
     ]
    },
    {
     "cell_type": "markdown",
     "metadata": {},
     "source": [
      "$ \\Omega_S = \\omega \\cfrac{\\sin \\alpha}{\\sin \\theta} = \\cfrac{L}{\\lambda_1} = \\omega \\cfrac{\\sqrt{\\lambda_3^2 + (\\lambda_1^2-\\lambda_3^2)\\sin\\alpha}}{\\lambda-1} $"
     ]
    },
    {
     "cell_type": "code",
     "collapsed": false,
     "input": [
      "import numpy as np\n",
      "import math\n",
      "x = arange(-pi,pi+0,0.1)\n",
      "print x"
     ],
     "language": "python",
     "metadata": {},
     "outputs": [
      {
       "output_type": "stream",
       "stream": "stdout",
       "text": [
        "[-3.14159265 -3.04159265 -2.94159265 -2.84159265 -2.74159265 -2.64159265\n",
        " -2.54159265 -2.44159265 -2.34159265 -2.24159265 -2.14159265 -2.04159265\n",
        " -1.94159265 -1.84159265 -1.74159265 -1.64159265 -1.54159265 -1.44159265\n",
        " -1.34159265 -1.24159265 -1.14159265 -1.04159265 -0.94159265 -0.84159265\n",
        " -0.74159265 -0.64159265 -0.54159265 -0.44159265 -0.34159265 -0.24159265\n",
        " -0.14159265 -0.04159265  0.05840735  0.15840735  0.25840735  0.35840735\n",
        "  0.45840735  0.55840735  0.65840735  0.75840735  0.85840735  0.95840735\n",
        "  1.05840735  1.15840735  1.25840735  1.35840735  1.45840735  1.55840735\n",
        "  1.65840735  1.75840735  1.85840735  1.95840735  2.05840735  2.15840735\n",
        "  2.25840735  2.35840735  2.45840735  2.55840735  2.65840735  2.75840735\n",
        "  2.85840735  2.95840735  3.05840735]\n"
       ]
      }
     ],
     "prompt_number": 25
    },
    {
     "cell_type": "code",
     "collapsed": false,
     "input": [
      "r=cos(x)\n",
      "print r"
     ],
     "language": "python",
     "metadata": {},
     "outputs": [
      {
       "output_type": "stream",
       "stream": "stdout",
       "text": [
        "[-1.         -0.99500417 -0.98006658 -0.95533649 -0.92106099 -0.87758256\n",
        " -0.82533561 -0.76484219 -0.69670671 -0.62160997 -0.54030231 -0.45359612\n",
        " -0.36235775 -0.26749883 -0.16996714 -0.0707372   0.02919952  0.12884449\n",
        "  0.22720209  0.32328957  0.41614684  0.5048461   0.58850112  0.66627602\n",
        "  0.73739372  0.80114362  0.85688875  0.90407214  0.94222234  0.97095817\n",
        "  0.9899925   0.99913515  0.99829478  0.98747977  0.96679819  0.93645669\n",
        "  0.89675842  0.84810003  0.79096771  0.7259323   0.65364362  0.57482395\n",
        "  0.49026082  0.40079917  0.30733287  0.2107958   0.11215253  0.01238866\n",
        " -0.08749898 -0.18651237 -0.28366219 -0.37797774 -0.46851667 -0.55437434\n",
        " -0.63469288 -0.70866977 -0.77556588 -0.83471278 -0.88551952 -0.92747843\n",
        " -0.96017029 -0.98326844 -0.9965421 ]\n"
       ]
      }
     ],
     "prompt_number": 27
    },
    {
     "cell_type": "code",
     "collapsed": false,
     "input": [
      "U=(1/(cosh(x))^(1/2)"
     ],
     "language": "python",
     "metadata": {},
     "outputs": [
      {
       "ename": "SyntaxError",
       "evalue": "unexpected EOF while parsing (<ipython-input-31-5d0e61042a70>, line 1)",
       "output_type": "pyerr",
       "traceback": [
        "\u001b[0;36m  File \u001b[0;32m\"<ipython-input-31-5d0e61042a70>\"\u001b[0;36m, line \u001b[0;32m1\u001b[0m\n\u001b[0;31m    U=(1/(cosh(x))^(1/2)\u001b[0m\n\u001b[0m                        ^\u001b[0m\n\u001b[0;31mSyntaxError\u001b[0m\u001b[0;31m:\u001b[0m unexpected EOF while parsing\n"
       ]
      }
     ],
     "prompt_number": 31
    },
    {
     "cell_type": "code",
     "collapsed": false,
     "input": [
      "plot(x,s, color = 'red', linewidth = 17, linestyle = ':', label = \"$cos(4{\\pi}t)$\") #\\ is escape character. like \\sigma or \\Sigma\n",
      "plot(x, c, color = 'blue', linewidth = 17, linestyle = '--', label = \"$cos(4{\\pi}t)$\") #linestyle, linewidty, lable, color all modify the plot. sequence isnt important\n",
      "xlabel('time (s)', fontsize = 10) #labels x axis\n",
      "ylabel('voltage (mV)') #lables y axis\n",
      "title('A simple plot', fontsize=20)\n",
      "grid(True)\n",
      "legend(loc=\"lower left\")#default is upper right\n",
      "savefig('simple_plot.pdf') #can save as pdf, jpeg, mnp"
     ],
     "language": "python",
     "metadata": {},
     "outputs": []
    }
   ],
   "metadata": {}
  }
 ]
}