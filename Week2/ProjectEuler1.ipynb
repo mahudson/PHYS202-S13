{
 "metadata": {
  "name": "ProjectEuler1"
 },
 "nbformat": 3,
 "nbformat_minor": 0,
 "worksheets": [
  {
   "cells": [
    {
     "cell_type": "code",
     "collapsed": false,
     "input": [
      "i=1\n",
      "squaresum=0\n",
      "sumnumber=0\n",
      "while i<(100+1):\n",
      "    squaresum+=i**2\n",
      "    sumnumber+=i\n",
      "    i+=1\n",
      "diff=sumnumber**2-squaresum\n",
      "\n",
      "print diff\n"
     ],
     "language": "python",
     "metadata": {},
     "outputs": [
      {
       "output_type": "stream",
       "stream": "stdout",
       "text": [
        "25164150\n"
       ]
      }
     ],
     "prompt_number": 20
    }
   ],
   "metadata": {}
  }
 ]
}